{
 "cells": [
  {
   "cell_type": "code",
   "execution_count": 3,
   "metadata": {},
   "outputs": [],
   "source": [
    "def solution(s):\n",
    "    answer = int(s)\n",
    "    \n",
    "    return answer"
   ]
  },
  {
   "cell_type": "code",
   "execution_count": 4,
   "metadata": {},
   "outputs": [
    {
     "data": {
      "text/plain": [
       "-123"
      ]
     },
     "execution_count": 4,
     "metadata": {},
     "output_type": "execute_result"
    }
   ],
   "source": [
    "solution(\"-0123\")"
   ]
  },
  {
   "cell_type": "code",
   "execution_count": 5,
   "metadata": {},
   "outputs": [
    {
     "data": {
      "text/plain": [
       "'e'"
      ]
     },
     "execution_count": 5,
     "metadata": {},
     "output_type": "execute_result"
    }
   ],
   "source": [
    "list = ['car', 'bed', 'sun']\n",
    "list[1][1]"
   ]
  },
  {
   "cell_type": "code",
   "execution_count": 12,
   "metadata": {},
   "outputs": [
    {
     "name": "stdout",
     "output_type": "stream",
     "text": [
      "수박수박\n",
      "수박수박수\n",
      "수박수박수박\n",
      "수박수박수박수\n"
     ]
    }
   ],
   "source": [
    "def solution(n):\n",
    "    if n % 2 == 0:\n",
    "        answer = \"수박\" * int(n/2)\n",
    "    else:\n",
    "        answer = (\"수박\" * int(n/2) + \"수\")\n",
    "    return answer\n",
    "\n",
    "print(solution(4))\n",
    "print(solution(5))\n",
    "print(solution(6))\n",
    "print(solution(7))"
   ]
  }
 ],
 "metadata": {
  "interpreter": {
   "hash": "6acdb8adf13cf7a5271a44788d39fbb2dbe71cd94e57ecb259aa6cc1d560a924"
  },
  "kernelspec": {
   "display_name": "Python 3.9.9 64-bit (windows store)",
   "language": "python",
   "name": "python3"
  },
  "language_info": {
   "codemirror_mode": {
    "name": "ipython",
    "version": 3
   },
   "file_extension": ".py",
   "mimetype": "text/x-python",
   "name": "python",
   "nbconvert_exporter": "python",
   "pygments_lexer": "ipython3",
   "version": "3.9.9"
  },
  "orig_nbformat": 4
 },
 "nbformat": 4,
 "nbformat_minor": 2
}
