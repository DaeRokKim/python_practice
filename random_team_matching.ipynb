{
 "cells": [
  {
   "cell_type": "code",
   "execution_count": 1,
   "metadata": {},
   "outputs": [],
   "source": [
    "import pandas as pd\n",
    "import random"
   ]
  },
  {
   "cell_type": "code",
   "execution_count": null,
   "metadata": {},
   "outputs": [],
   "source": [
    "data = pd.read_csv('.csv')\n",
    "df = pd.DataFrame(data)\n",
    "df = df['이름'].tolist()\n",
    "del df[25:]"
   ]
  },
  {
   "cell_type": "code",
   "execution_count": null,
   "metadata": {},
   "outputs": [],
   "source": [
    "# # shuffle 해서 인덱싱 해서 팀 구성\n",
    "# student = df\n",
    "# shuffle_list = []\n",
    "# random.shuffle(student)\n",
    "\n",
    "# for i in range(0, len(student)-4, 4):\n",
    "#     print(student[i:i+4])\n",
    "\n",
    "# print(\"남은 인원 : \", student[-1:])\n",
    "    "
   ]
  },
  {
   "cell_type": "code",
   "execution_count": null,
   "metadata": {},
   "outputs": [],
   "source": [
    "student = df"
   ]
  },
  {
   "cell_type": "code",
   "execution_count": 2,
   "metadata": {},
   "outputs": [],
   "source": [
    "def make_team(list, num):\n",
    "    random.shuffle(list)\n",
    "    last_num = len(list) % num\n",
    "\n",
    "    for i in range(len(list)):\n",
    "        temps = []\n",
    "\n",
    "        while len(temps) < num:\n",
    "            temp = random.choice(list)\n",
    "\n",
    "            if temp not in temps:\n",
    "                temps.append(temp)\n",
    "                list.remove(temp)\n",
    "\n",
    "        print(f\"{i+1} 조 : {temps}\")\n",
    "\n",
    "        if len(list) == last_num:\n",
    "            if last_num == 3:\n",
    "                print(f\"{i+2} 조 : {list}\")\n",
    "            else:\n",
    "                print(f\"남은 인원 : {list}\")\n",
    "            break"
   ]
  },
  {
   "cell_type": "code",
   "execution_count": null,
   "metadata": {},
   "outputs": [],
   "source": [
    "make_team(student, 4)"
   ]
  },
  {
   "cell_type": "code",
   "execution_count": 3,
   "metadata": {},
   "outputs": [
    {
     "name": "stdout",
     "output_type": "stream",
     "text": [
      "1 조 : ['Y', 'D', 'F', 'H', 'N']\n",
      "2 조 : ['B', 'A', 'G', 'W', 'Q']\n",
      "3 조 : ['Z', 'M', 'J', 'C', 'V']\n",
      "4 조 : ['L', 'O', 'E', 'R', 'I']\n",
      "5 조 : ['P', 'U', 'S', 'X', 'T']\n",
      "남은 인원 : ['K']\n"
     ]
    }
   ],
   "source": [
    "people = [chr(a) for a in range(ord(\"A\"), ord(\"Z\")+1)]\n",
    "make_team(people, 5)"
   ]
  },
  {
   "cell_type": "code",
   "execution_count": null,
   "metadata": {},
   "outputs": [],
   "source": []
  }
 ],
 "metadata": {
  "kernelspec": {
   "display_name": "Python 3.9.13 64-bit (windows store)",
   "language": "python",
   "name": "python3"
  },
  "language_info": {
   "codemirror_mode": {
    "name": "ipython",
    "version": 3
   },
   "file_extension": ".py",
   "mimetype": "text/x-python",
   "name": "python",
   "nbconvert_exporter": "python",
   "pygments_lexer": "ipython3",
   "version": "3.9.13"
  },
  "orig_nbformat": 4,
  "vscode": {
   "interpreter": {
    "hash": "230e14b11c4769773b1b628f73b21a88dca573f08567abc9fc0fca816a6fdf9f"
   }
  }
 },
 "nbformat": 4,
 "nbformat_minor": 2
}
