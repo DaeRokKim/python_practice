{
 "cells": [
  {
   "cell_type": "code",
   "execution_count": 2,
   "metadata": {},
   "outputs": [],
   "source": [
    "# Node 정의\n",
    "class Node():\n",
    "    def __init__(self):\n",
    "        self.data = None\n",
    "        self.link = None"
   ]
  },
  {
   "cell_type": "code",
   "execution_count": 3,
   "metadata": {},
   "outputs": [
    {
     "name": "stdout",
     "output_type": "stream",
     "text": [
      "다현 "
     ]
    }
   ],
   "source": [
    "# node1 만들기\n",
    "node1 = Node()\n",
    "node1.data = \"다현\"\n",
    "print(node1.data, end=\" \")"
   ]
  },
  {
   "cell_type": "code",
   "execution_count": 4,
   "metadata": {},
   "outputs": [],
   "source": [
    "# node2 만들기\n",
    "node2 = Node()\n",
    "node2.data = \"정연\"\n",
    "node1.link = node2"
   ]
  },
  {
   "cell_type": "code",
   "execution_count": 10,
   "metadata": {},
   "outputs": [
    {
     "name": "stdout",
     "output_type": "stream",
     "text": [
      "다현 정연 쯔위 사나 지효 다현 정연 쯔위 사나 지효 "
     ]
    }
   ],
   "source": [
    "# 데이터가 5개인 단순 연결 리스트 생성\n",
    "class Node():\n",
    "    def __init__(self):\n",
    "        self.data = None\n",
    "        self.link = None\n",
    "\n",
    "node1 = Node()\n",
    "node1.data = '다현'\n",
    "\n",
    "node2 = Node()\n",
    "node2.data = '정연'\n",
    "node1.link = node2\n",
    "\n",
    "node3 = Node()\n",
    "node3.data = '쯔위'\n",
    "node2.link = node3\n",
    "\n",
    "node4 = Node()\n",
    "node4.data = '사나'\n",
    "node3.link = node4\n",
    "\n",
    "node5 = Node()\n",
    "node5.data = '지효'\n",
    "node4.link = node5\n",
    "\n",
    "print(node1.data, end=' ')\n",
    "print(node1.link.data, end=' ')\n",
    "print(node1.link.link.data, end=' ')\n",
    "print(node1.link.link.link.data, end=' ')\n",
    "print(node1.link.link.link.link.data, end=' ')\n",
    "\n",
    "current = node1\n",
    "print(current.data, end=' ')\n",
    "while current.link != None:\n",
    "    current = current.link\n",
    "    print(current.data, end=' ')"
   ]
  },
  {
   "cell_type": "code",
   "execution_count": 11,
   "metadata": {},
   "outputs": [
    {
     "name": "stdout",
     "output_type": "stream",
     "text": [
      "다현 정연 박진영 쯔위 사나 지효 "
     ]
    }
   ],
   "source": [
    "# 노드 삽입하기\n",
    "# 정연 쯔위 사이에 \n",
    "\n",
    "newNode = Node()\n",
    "newNode.data = '박진영'\n",
    "newNode.link = node2.link # 정연 노드 링크\n",
    "node2.link = newNode\n",
    "\n",
    "current = node1\n",
    "print(current.data, end=' ')\n",
    "while current.link != None:\n",
    "    current = current.link\n",
    "    print(current.data, end=' ')\n",
    " "
   ]
  },
  {
   "cell_type": "code",
   "execution_count": 12,
   "metadata": {},
   "outputs": [
    {
     "name": "stdout",
     "output_type": "stream",
     "text": [
      "다현 정연 쯔위 사나 지효 "
     ]
    }
   ],
   "source": [
    "# 노드 삭제하기\n",
    "# 박진영 삭제하기\n",
    "\n",
    "node2.link = newNode.link # 삭제할 노드의 링크를 앞에 노드로 붙여준다\n",
    "del(newNode)\n",
    "\n",
    "current = node1\n",
    "print(current.data, end=' ')\n",
    "while current.link != None:\n",
    "    current = current.link\n",
    "    print(current.data, end=' ')"
   ]
  },
  {
   "cell_type": "code",
   "execution_count": 13,
   "metadata": {},
   "outputs": [],
   "source": [
    "memory = []\n",
    "head, current, pre = None, None, None"
   ]
  },
  {
   "cell_type": "code",
   "execution_count": 14,
   "metadata": {},
   "outputs": [
    {
     "name": "stdout",
     "output_type": "stream",
     "text": [
      "다현 정연 쯔위 사나 지효 \n"
     ]
    }
   ],
   "source": [
    "# 단순 연결 리스트 생성\n",
    "class Node():\n",
    "    def __init__(self):\n",
    "        self.data = None\n",
    "        self.link = None\n",
    "\n",
    "def printNodes(start):\n",
    "    current = start\n",
    "    if current == None:\n",
    "        return\n",
    "    print(current.data, end=' ')\n",
    "    while current.link != None:\n",
    "        current = current.link\n",
    "        print(current.data, end=' ')\n",
    "    print()\n",
    "\n",
    "memory = []\n",
    "head, current, pre = None, None, None\n",
    "dataArray = ['다현', '정연', '쯔위', '사나', '지효']\n",
    "\n",
    "# 메인코드\n",
    "if __name__ == \"__main__\":\n",
    "\n",
    "    node = Node()\n",
    "    node.data = dataArray[0]\n",
    "    head = node\n",
    "    memory.append(node)\n",
    "\n",
    "    for data in dataArray[1:]:\n",
    "        pre = node\n",
    "        node = Node()\n",
    "        node.data = data\n",
    "        pre.link = node\n",
    "        memory.append(node)\n",
    "\n",
    "    printNodes(head)"
   ]
  },
  {
   "cell_type": "code",
   "execution_count": null,
   "metadata": {},
   "outputs": [],
   "source": []
  }
 ],
 "metadata": {
  "interpreter": {
   "hash": "c285adf67abdcbbd8ef79f1890e84e9cd9884242b6c6e7fa553f379efcbb56ad"
  },
  "kernelspec": {
   "display_name": "Python 3.9.7 ('py39tf')",
   "language": "python",
   "name": "python3"
  },
  "language_info": {
   "codemirror_mode": {
    "name": "ipython",
    "version": 3
   },
   "file_extension": ".py",
   "mimetype": "text/x-python",
   "name": "python",
   "nbconvert_exporter": "python",
   "pygments_lexer": "ipython3",
   "version": "3.9.7"
  },
  "orig_nbformat": 4
 },
 "nbformat": 4,
 "nbformat_minor": 2
}
