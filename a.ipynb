{
 "cells": [
  {
   "cell_type": "code",
   "execution_count": 2,
   "metadata": {},
   "outputs": [],
   "source": [
    "def swap(n1, n2):\n",
    "    temp = n1\n",
    "    n1 = n2\n",
    "    n2 = temp\n",
    "    print(n1, n2)"
   ]
  },
  {
   "cell_type": "code",
   "execution_count": 3,
   "metadata": {},
   "outputs": [
    {
     "name": "stdout",
     "output_type": "stream",
     "text": [
      "10 20\n",
      "20 10\n",
      "10 20\n"
     ]
    }
   ],
   "source": [
    "num1 = 10\n",
    "num2 = 20\n",
    "\n",
    "print(num1, num2)\n",
    "swap(num1, num2)\n",
    "print(num1, num2)"
   ]
  },
  {
   "cell_type": "code",
   "execution_count": 8,
   "metadata": {},
   "outputs": [],
   "source": [
    "def yp(year):\n",
    "    if (year % 4 == 0 and year % 100 != 0) or (year % 400 == 0):\n",
    "        print(\"윤년\")\n",
    "    else:\n",
    "        print(\"평년\")\n",
    "    "
   ]
  },
  {
   "cell_type": "code",
   "execution_count": 11,
   "metadata": {},
   "outputs": [
    {
     "name": "stdout",
     "output_type": "stream",
     "text": [
      "평년\n",
      "윤년\n",
      "평년\n",
      "윤년\n"
     ]
    }
   ],
   "source": [
    "yp(2005)\n",
    "yp(2000)\n",
    "yp(4123)\n",
    "yp(2340)"
   ]
  },
  {
   "cell_type": "code",
   "execution_count": 15,
   "metadata": {},
   "outputs": [],
   "source": [
    "import random\n",
    "list = []\n",
    "for i in range(10):\n",
    "    list.append(random.randrange(2000, 3000))\n"
   ]
  },
  {
   "cell_type": "code",
   "execution_count": 16,
   "metadata": {},
   "outputs": [
    {
     "data": {
      "text/plain": [
       "[2906, 2617, 2046, 2678, 2927, 2980, 2674, 2532, 2544, 2192]"
      ]
     },
     "execution_count": 16,
     "metadata": {},
     "output_type": "execute_result"
    }
   ],
   "source": [
    "list"
   ]
  },
  {
   "cell_type": "code",
   "execution_count": 22,
   "metadata": {},
   "outputs": [
    {
     "name": "stdout",
     "output_type": "stream",
     "text": [
      "2906 평년\n",
      "2617 평년\n",
      "2046 평년\n",
      "2678 평년\n",
      "2927 평년\n",
      "2980 윤년\n",
      "2674 평년\n",
      "2532 윤년\n",
      "2544 윤년\n",
      "2192 윤년\n"
     ]
    }
   ],
   "source": [
    "count = 0\n",
    "for i in list:\n",
    "    print(list[count], end=\" \")\n",
    "    yp(i)\n",
    "    count += 1\n",
    "    "
   ]
  },
  {
   "cell_type": "code",
   "execution_count": null,
   "metadata": {},
   "outputs": [],
   "source": []
  }
 ],
 "metadata": {
  "kernelspec": {
   "display_name": "Python 3.9.13 64-bit (windows store)",
   "language": "python",
   "name": "python3"
  },
  "language_info": {
   "codemirror_mode": {
    "name": "ipython",
    "version": 3
   },
   "file_extension": ".py",
   "mimetype": "text/x-python",
   "name": "python",
   "nbconvert_exporter": "python",
   "pygments_lexer": "ipython3",
   "version": "3.9.13"
  },
  "orig_nbformat": 4,
  "vscode": {
   "interpreter": {
    "hash": "230e14b11c4769773b1b628f73b21a88dca573f08567abc9fc0fca816a6fdf9f"
   }
  }
 },
 "nbformat": 4,
 "nbformat_minor": 2
}
