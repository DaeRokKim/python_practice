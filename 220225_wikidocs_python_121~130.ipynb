{
 "cells": [
  {
   "cell_type": "markdown",
   "metadata": {},
   "source": [
    "# 121 ~ 130"
   ]
  },
  {
   "cell_type": "code",
   "execution_count": 2,
   "metadata": {},
   "outputs": [
    {
     "name": "stdout",
     "output_type": "stream",
     "text": [
      "a\n"
     ]
    }
   ],
   "source": [
    "n = input()\n",
    "\n",
    "if n.islower():\n",
    "    print(n.upper())\n",
    "else:\n",
    "    print(n.lower())\n",
    "    "
   ]
  },
  {
   "cell_type": "code",
   "execution_count": 6,
   "metadata": {},
   "outputs": [
    {
     "name": "stdout",
     "output_type": "stream",
     "text": [
      "grade is C\n"
     ]
    }
   ],
   "source": [
    "n = int(input())\n",
    "\n",
    "if n > 80:\n",
    "    print(\"grade is A\")\n",
    "elif n>60:\n",
    "    print(\"grade is B\")\n",
    "elif n > 40:\n",
    "    print(\"grade is C\")\n",
    "elif n > 20:\n",
    "    print(\"grade is D\")\n",
    "else:\n",
    "    print(\"grade is E\")\n"
   ]
  },
  {
   "cell_type": "code",
   "execution_count": 1,
   "metadata": {},
   "outputs": [
    {
     "name": "stdout",
     "output_type": "stream",
     "text": [
      "116700.0 원\n"
     ]
    }
   ],
   "source": [
    "money = {\n",
    "    \"달러\" : 1167,\n",
    "    \"엔\" : 1.096,\n",
    "    \"유로\" : 1268,\n",
    "    \"위안\" : 171,\n",
    "}\n",
    "\n",
    "user = input(\"입력해라 : \")\n",
    "num, currency = user.split()\n",
    "print(float(num) * money[currency], \"원\")\n"
   ]
  },
  {
   "cell_type": "code",
   "execution_count": 5,
   "metadata": {},
   "outputs": [
    {
     "name": "stdout",
     "output_type": "stream",
     "text": [
      "20\n"
     ]
    }
   ],
   "source": [
    "a = int(input(\"입력1 : \"))\n",
    "b = int(input(\"입력2 : \"))\n",
    "c = int(input(\"입력3 : \"))\n",
    "\n",
    "if a > b & a > c:\n",
    "    print(a)\n",
    "elif b > a & b > c:\n",
    "    print(b)\n",
    "else:\n",
    "    print(c)"
   ]
  },
  {
   "cell_type": "code",
   "execution_count": 11,
   "metadata": {},
   "outputs": [
    {
     "name": "stdout",
     "output_type": "stream",
     "text": [
      "SKT\n"
     ]
    }
   ],
   "source": [
    "# 휴대폰 번호 앞자리 통신사 구분\n",
    "# 사용자 휴대번호 입력 받고, 통신사 출력하는 프로그램\n",
    "\n",
    "number = input(\"휴대폰 번호 입력 : \")\n",
    "\n",
    "num = number.split(\"-\")[0]\n",
    "\n",
    "if num == '011':\n",
    "    print(\"SKT\")\n",
    "elif num == '016':\n",
    "    print(\"KT\")\n",
    "elif num == '019':\n",
    "    print(\"LGU\")\n",
    "else:\n",
    "    print(\"Unknown\")\n"
   ]
  },
  {
   "cell_type": "code",
   "execution_count": 12,
   "metadata": {},
   "outputs": [
    {
     "name": "stdout",
     "output_type": "stream",
     "text": [
      "도봉구\n"
     ]
    }
   ],
   "source": [
    "number = input(\"우편번호 입력 : \")\n",
    "num = number[:3]\n",
    "\n",
    "if num in ['010', '011', '012']:\n",
    "    print(\"강북구\")\n",
    "elif num in ['013', '014', '015']:\n",
    "    print(\"도봉구\")\n",
    "else:\n",
    "    pritn(\"노원구\")"
   ]
  },
  {
   "cell_type": "code",
   "execution_count": 15,
   "metadata": {},
   "outputs": [
    {
     "name": "stdout",
     "output_type": "stream",
     "text": [
      "여자\n"
     ]
    }
   ],
   "source": [
    "number = input(\"주민등록번호 : \")\n",
    "\n",
    "num = number[7]\n",
    "# 더 편한 방법\n",
    "# num = number.split(\"-\")[1]\n",
    "\n",
    "if num in ['1','3']:\n",
    "    print(\"남자\")\n",
    "elif num in ['2', '4']:\n",
    "    print(\"여자\")"
   ]
  },
  {
   "cell_type": "code",
   "execution_count": 23,
   "metadata": {},
   "outputs": [
    {
     "name": "stdout",
     "output_type": "stream",
     "text": [
      "서울 입니다.\n"
     ]
    }
   ],
   "source": [
    "number = input(\"주민등록번호 : \")\n",
    "num = number.split(\"-\")[1][1:3]\n",
    "num = int(num)\n",
    "\n",
    "if num <= 8:\n",
    "    print(\"서울 입니다.\")\n",
    "else:\n",
    "    print(\"서울이 아닙니다.\")"
   ]
  },
  {
   "cell_type": "code",
   "execution_count": 13,
   "metadata": {},
   "outputs": [
    {
     "name": "stdout",
     "output_type": "stream",
     "text": [
      "821010 1635214 4\n",
      "7 4\n",
      "유효한 주민등록번호입니다.\n"
     ]
    }
   ],
   "source": [
    "number = input(\"주민등록번호 입력 : \")\n",
    "\n",
    "num1 = number.split(\"-\")[0]\n",
    "num2 = number.split(\"-\")[1]\n",
    "\n",
    "print(num1, num2, num2[6])\n",
    "\n",
    "calculation1 = ((int(num1[0]) * 2) + (int(num1[1]) * 3) + (int(num1[2]) * 4) + (int(num1[3]) * 5) + (int(num1[4]) * 6) + (int(num1[5]) * 7) + (int(num2[0]) * 8) + (int(num2[1]) * 9) + (int(num2[2]) * 2) + (int(num2[3]) * 3) + (int(num2[4]) * 4) + (int(num2[5]) * 5)) % 11\n",
    "\n",
    "calculation2 = 11 - calculation1\n",
    "\n",
    "print(calculation1, calculation2)\n",
    "\n",
    "\n",
    "if calculation2 == int(num2[6]):\n",
    "    print(\"유효한 주민등록번호입니다.\")\n",
    "else:\n",
    "    print(\"유효하지 않은 주민등록번호입니다.\")"
   ]
  },
  {
   "cell_type": "code",
   "execution_count": 2,
   "metadata": {},
   "outputs": [],
   "source": [
    "import requests\n",
    "\n",
    "btc = requests.get(\"https://api.bithumb.com/public/ticker/\").json()['data']"
   ]
  },
  {
   "cell_type": "code",
   "execution_count": 5,
   "metadata": {},
   "outputs": [
    {
     "name": "stdout",
     "output_type": "stream",
     "text": [
      "하락장\n"
     ]
    }
   ],
   "source": [
    "시가 = float(btc['opening_price'])\n",
    "변동폭 = float(btc['max_price']) - float(btc['min_price'])\n",
    "최고가 = float(btc['max_price'])\n",
    "\n",
    "if 최고가 == 시가 + 변동폭:\n",
    "    print(\"상승장\")\n",
    "else:\n",
    "    print(\"하락장\")\n",
    "\n"
   ]
  }
 ],
 "metadata": {
  "interpreter": {
   "hash": "31483a386db1e68d152e9427b34d29f391cb14ba7767f821b4e948d58c506255"
  },
  "kernelspec": {
   "display_name": "Python 3.9.10 64-bit ('venv': venv)",
   "language": "python",
   "name": "python3"
  },
  "language_info": {
   "codemirror_mode": {
    "name": "ipython",
    "version": 3
   },
   "file_extension": ".py",
   "mimetype": "text/x-python",
   "name": "python",
   "nbconvert_exporter": "python",
   "pygments_lexer": "ipython3",
   "version": "3.9.10"
  },
  "orig_nbformat": 4
 },
 "nbformat": 4,
 "nbformat_minor": 2
}
