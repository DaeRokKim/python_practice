{
 "cells": [
  {
   "cell_type": "markdown",
   "metadata": {},
   "source": [
    "### 단순 연결 리스트 일반 구현"
   ]
  },
  {
   "cell_type": "code",
   "execution_count": 1,
   "metadata": {},
   "outputs": [
    {
     "name": "stdout",
     "output_type": "stream",
     "text": [
      "다현 정연 쯔위 사나 지효 \n"
     ]
    }
   ],
   "source": [
    "class Node():\n",
    "    def __init__(self):\n",
    "        self.data = None\n",
    "        self.link = None\n",
    "\n",
    "# 출력함수\n",
    "def printNodes(start):\n",
    "    current = start\n",
    "    if current == None:\n",
    "        return\n",
    "    print(current.data, end=\" \")\n",
    "    while current.link != None:\n",
    "        current = current.link\n",
    "        print(current.data, end=' ')\n",
    "    print()\n",
    "\n",
    "# 전역 변수 선언 부분\n",
    "memory = []\n",
    "head, current, pre = None, None, None\n",
    "dataArray = ['다현', '정연', '쯔위', '사나', '지효'] # 배열 선언\n",
    "\n",
    "# 메인 코드 부분\n",
    "if __name__ == '__main__':\n",
    "    node = Node()\n",
    "    node.data = dataArray[0]\n",
    "    head = node\n",
    "    memory.append(node)\n",
    "\n",
    "    for data in dataArray[1:]:\n",
    "        pre = node\n",
    "        node = Node()\n",
    "        node.data = data\n",
    "        pre.link = node\n",
    "        memory.append(node)\n",
    "\n",
    "    printNodes(head)"
   ]
  },
  {
   "cell_type": "code",
   "execution_count": 2,
   "metadata": {},
   "outputs": [],
   "source": [
    "# 삽입 함수 구현\n",
    "\n",
    "def insertNode(findData, insertData):\n",
    "    global memory, head, current, pre\n",
    "\n",
    "    if head.data == findData:\n",
    "        node = Node()\n",
    "        node.data = insertData\n",
    "        node.link = head\n",
    "        head = node\n",
    "        return\n",
    "    \n",
    "    current = head\n",
    "    while current.link != None:\n",
    "        pre = current\n",
    "        current = current.link\n",
    "        if current.data == findData:\n",
    "            node = Node()\n",
    "            node.data = insertData\n",
    "            node.link = current\n",
    "            pre.link = node\n",
    "            return\n",
    "\n",
    "    node = Node()\n",
    "    node.data = insertData\n",
    "    current.link = node"
   ]
  },
  {
   "cell_type": "code",
   "execution_count": 3,
   "metadata": {},
   "outputs": [
    {
     "name": "stdout",
     "output_type": "stream",
     "text": [
      "다현 정연 쯔위 사나 지효 \n"
     ]
    }
   ],
   "source": [
    "printNodes(head)"
   ]
  },
  {
   "cell_type": "code",
   "execution_count": 21,
   "metadata": {},
   "outputs": [
    {
     "name": "stdout",
     "output_type": "stream",
     "text": [
      "화사 다현 정연 쯔위 사나 지효 \n",
      "화사 다현 정연 쯔위 솔라 사나 지효 \n",
      "화사 다현 정연 쯔위 솔라 사나 지효 문별 \n"
     ]
    }
   ],
   "source": [
    "insertNode(\"다현\", \"화사\")\n",
    "printNodes(head)\n",
    "\n",
    "insertNode(\"사나\", \"솔라\")\n",
    "printNodes(head)\n",
    "\n",
    "insertNode(\"재남\", \"문별\")\n",
    "printNodes(head)"
   ]
  },
  {
   "cell_type": "code",
   "execution_count": 19,
   "metadata": {},
   "outputs": [],
   "source": [
    "# 삭제 함수 구현\n",
    "\n",
    "def deleteNode(deleteData):\n",
    "    global memory, current, pre, head\n",
    "\n",
    "    if head.data == deleteData:\n",
    "        current = head\n",
    "        head = head.link\n",
    "        del(current)\n",
    "        return print(\"첫 번째 노드 삭제\")\n",
    "        # return\n",
    "\n",
    "    current = head\n",
    "    while current.link != None:\n",
    "        pre = current\n",
    "        current = current.link\n",
    "        if current.data == deleteData:\n",
    "            pre.link = current.link\n",
    "            del(current)\n",
    "            # return\n",
    "            return print(\"중간 노드 삭제\")\n",
    "        \n",
    "    print(\"찾는 데이터가 리스트에 없음\")\n"
   ]
  },
  {
   "cell_type": "code",
   "execution_count": 22,
   "metadata": {},
   "outputs": [
    {
     "name": "stdout",
     "output_type": "stream",
     "text": [
      "첫 번째 노드 삭제\n",
      "다현 정연 쯔위 솔라 사나 지효 문별 \n",
      "중간 노드 삭제\n",
      "다현 정연 쯔위 사나 지효 문별 \n",
      "중간 노드 삭제\n",
      "다현 정연 쯔위 사나 지효 \n",
      "찾는 데이터가 리스트에 없음\n",
      "다현 정연 쯔위 사나 지효 \n"
     ]
    }
   ],
   "source": [
    "deleteNode('화사')\n",
    "printNodes(head)\n",
    "deleteNode('솔라')\n",
    "printNodes(head)\n",
    "deleteNode('문별')\n",
    "printNodes(head)\n",
    "deleteNode('문별')\n",
    "printNodes(head)"
   ]
  },
  {
   "cell_type": "code",
   "execution_count": 29,
   "metadata": {},
   "outputs": [],
   "source": [
    "# 검색 함수\n",
    "\n",
    "def findNode(findData):\n",
    "    global memory, head, current, pre\n",
    "\n",
    "    current = head\n",
    "    if current.data == findData:\n",
    "        return current\n",
    "    while current.link != None:\n",
    "        current = current.link\n",
    "        if current.data == findData:\n",
    "            return current\n",
    "    return Node()\n"
   ]
  },
  {
   "cell_type": "code",
   "execution_count": 30,
   "metadata": {},
   "outputs": [
    {
     "name": "stdout",
     "output_type": "stream",
     "text": [
      "다현 정연 쯔위 사나 지효 \n",
      "다현\n",
      "사나\n",
      "None\n"
     ]
    }
   ],
   "source": [
    "printNodes(head)\n",
    "fNode = findNode(\"다현\")\n",
    "print(fNode.data)\n",
    "fNode = findNode(\"사나\")\n",
    "print(fNode.data)\n",
    "fNode = findNode(\"솔라\")\n",
    "print(fNode.data)"
   ]
  },
  {
   "cell_type": "markdown",
   "metadata": {},
   "source": [
    "## 단순 연결 리스트 응용"
   ]
  },
  {
   "cell_type": "markdown",
   "metadata": {},
   "source": [
    "처음부터 다시 클래스 만들어보기 까먹지 않게"
   ]
  },
  {
   "cell_type": "code",
   "execution_count": 32,
   "metadata": {},
   "outputs": [
    {
     "name": "stdout",
     "output_type": "stream",
     "text": [
      "['지민', '010-1'] \n",
      "['정국', '010-2'] ['지민', '010-1'] \n",
      "['뷔', '010-3'] ['정국', '010-2'] ['지민', '010-1'] \n",
      "['뷔', '010-3'] ['슈가', '010-4'] ['정국', '010-2'] ['지민', '010-1'] \n",
      "['뷔', '010-3'] ['슈가', '010-4'] ['정국', '010-2'] ['지민', '010-1'] ['진', '010-5'] \n"
     ]
    }
   ],
   "source": [
    "class Node():\n",
    "    def __init__(self):\n",
    "        self.data = None\n",
    "        self.link = None\n",
    "\n",
    "# 출력 함수\n",
    "def printNodes(start):\n",
    "    current = start\n",
    "    if current == None:\n",
    "        return\n",
    "    print(current.data, end=' ')\n",
    "    while current.link != None:\n",
    "        current = current.link\n",
    "        print(current.data, end=' ')\n",
    "    print()\n",
    "\n",
    "# 노드 추가 함수\n",
    "def maketestnode(input):\n",
    "    global memory, head, current, pre\n",
    "    printNodes(head)\n",
    "\n",
    "    node = Node()\n",
    "    node.data = input\n",
    "    memory.append(node)\n",
    "    if head == None:\n",
    "        head = node\n",
    "        return\n",
    "    if head.data[0] > input[0]:\n",
    "        node.link = head\n",
    "        head = node\n",
    "        return\n",
    "    \n",
    "    current = head\n",
    "    while current.link != None:\n",
    "        pre = current\n",
    "        current = current.link\n",
    "\n",
    "        if current.data[0] > input[0]:\n",
    "            pre.link = node\n",
    "            node.link = current\n",
    "            return\n",
    "    \n",
    "    current.link = node\n",
    "\n",
    "# 전역변수 \n",
    "memory = []\n",
    "head, current, pre = None, None, None\n",
    "dataArray = [['지민', '010-1'], ['정국', '010-2'], ['뷔', '010-3'], ['슈가', '010-4'], ['진', '010-5']]\n",
    "\n",
    "# 메인코드\n",
    "\n",
    "if __name__ == \"__main__\":\n",
    "\n",
    "    for data in dataArray:\n",
    "        maketestnode(data)\n",
    "\n",
    "    printNodes(head)\n",
    "\n",
    "\n",
    "\n"
   ]
  },
  {
   "cell_type": "code",
   "execution_count": null,
   "metadata": {},
   "outputs": [],
   "source": []
  }
 ],
 "metadata": {
  "interpreter": {
   "hash": "c285adf67abdcbbd8ef79f1890e84e9cd9884242b6c6e7fa553f379efcbb56ad"
  },
  "kernelspec": {
   "display_name": "Python 3.9.7 ('py39tf')",
   "language": "python",
   "name": "python3"
  },
  "language_info": {
   "codemirror_mode": {
    "name": "ipython",
    "version": 3
   },
   "file_extension": ".py",
   "mimetype": "text/x-python",
   "name": "python",
   "nbconvert_exporter": "python",
   "pygments_lexer": "ipython3",
   "version": "3.9.7"
  },
  "orig_nbformat": 4
 },
 "nbformat": 4,
 "nbformat_minor": 2
}
