{
 "cells": [
  {
   "cell_type": "code",
   "execution_count": 9,
   "metadata": {},
   "outputs": [],
   "source": [
    "class Person:\n",
    "    hometown = \"USA\"\n",
    "\n",
    "    def __init__(self, sex='man', age='25'):\n",
    "        self.sex = sex\n",
    "        self.age = age\n",
    "\n",
    "    def walk(self):\n",
    "        print(\"I'm walking in the rain\")\n",
    "        \n",
    "    def run(self, run_fast, current_speed=8):\n",
    "        self.run_fast = run_fast\n",
    "        self.current_speed = current_speed + run_fast\n",
    "        print(\"run_fast\", self.run_fast, \"running at\", self.current_speed)"
   ]
  },
  {
   "cell_type": "code",
   "execution_count": 10,
   "metadata": {},
   "outputs": [
    {
     "name": "stdout",
     "output_type": "stream",
     "text": [
      "I'm walking in the rain\n",
      "run_fast 5 running at 13\n"
     ]
    }
   ],
   "source": [
    "class worker(Person):\n",
    "    pass\n",
    "\n",
    "Daniel = worker()\n",
    "Daniel.walk()\n",
    "Daniel.run(5)\n"
   ]
  },
  {
   "cell_type": "code",
   "execution_count": 12,
   "metadata": {},
   "outputs": [
    {
     "name": "stdout",
     "output_type": "stream",
     "text": [
      "I'm walking in the rain\n"
     ]
    }
   ],
   "source": [
    "class worker(Person):\n",
    "    \tjobs = \"programmer\"\n",
    "    \n",
    "Daniel = worker()\n",
    "Daniel.walk()"
   ]
  },
  {
   "cell_type": "code",
   "execution_count": 14,
   "metadata": {},
   "outputs": [],
   "source": [
    "class worker(Person):\n",
    "    \tdef work(self):\n",
    "\t\t    print(\"I'm working so hard\")"
   ]
  },
  {
   "cell_type": "code",
   "execution_count": 20,
   "metadata": {},
   "outputs": [],
   "source": [
    "class Worker(Person):\n",
    "    def work(self):\n",
    "        print(\"I'm working so hard\")\n",
    "\n",
    "    def walk(self):\n",
    "        print(\"When I finished my work, I walk home\")"
   ]
  },
  {
   "cell_type": "code",
   "execution_count": 23,
   "metadata": {},
   "outputs": [
    {
     "name": "stdout",
     "output_type": "stream",
     "text": [
      "내 나이는 28살 입니다.\n"
     ]
    }
   ],
   "source": [
    "class Person:\n",
    "    hometown = \"USA\"\n",
    "\n",
    "    def __init__(self, sex, age):\n",
    "        self.sex = sex\n",
    "        self.age = '내 나이는 ' + age +'살 입니다.'\n",
    "\n",
    "class Worker(Person):\n",
    "    def __init__(self, sex, age, jobs):\n",
    "        super().__init__(sex, age)\n",
    "        self.jobs = jobs\n",
    "\n",
    "Daniel = Worker('man','28', 'Programmer')\n",
    "print(Daniel.age)"
   ]
  },
  {
   "cell_type": "code",
   "execution_count": null,
   "metadata": {},
   "outputs": [],
   "source": []
  }
 ],
 "metadata": {
  "interpreter": {
   "hash": "31483a386db1e68d152e9427b34d29f391cb14ba7767f821b4e948d58c506255"
  },
  "kernelspec": {
   "display_name": "Python 3.9.9 64-bit ('venv': venv)",
   "language": "python",
   "name": "python3"
  },
  "language_info": {
   "codemirror_mode": {
    "name": "ipython",
    "version": 3
   },
   "file_extension": ".py",
   "mimetype": "text/x-python",
   "name": "python",
   "nbconvert_exporter": "python",
   "pygments_lexer": "ipython3",
   "version": "3.9.9"
  },
  "orig_nbformat": 4
 },
 "nbformat": 4,
 "nbformat_minor": 2
}
